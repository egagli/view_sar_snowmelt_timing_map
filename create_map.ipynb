{
 "cells": [
  {
   "cell_type": "code",
   "execution_count": 1,
   "id": "0d22b535-0d9a-4a19-93b8-700e9c0f9742",
   "metadata": {},
   "outputs": [],
   "source": [
    "import requests\n",
    "import folium\n",
    "import json\n",
    "import pystac\n",
    "import rioxarray\n",
    "import contextily as ctx\n",
    "import matplotlib.pyplot as plt\n",
    "import matplotlib as mpl\n",
    "import fsspec\n",
    "import geopandas as gpd\n",
    "import branca\n",
    "from branca.colormap import LinearColormap\n",
    "from folium import plugins\n",
    "import adlfs"
   ]
  },
  {
   "cell_type": "code",
   "execution_count": 2,
   "id": "05593390-7355-4951-96fe-ebd26d6d8fae",
   "metadata": {},
   "outputs": [],
   "source": [
    "# use read only token\n",
    "sas_token = \"se=2023-02-27T21%3A29Z&sp=racwdl&sv=2018-11-09&sr=c&skoid=b4d39ccb-ca9c-4e9d-a183-5e0f3ba3e609&sktid=f6b6dd5b-f02f-441a-99a0-162ac5060bd2&skt=2023-02-20T21%3A30%3A01Z&ske=2023-02-27T21%3A29%3A00Z&sks=b&skv=2018-11-09&sig=p0mG2aPIjQaBOhBFGGf%2BnGJLZhsarSAn2zoWfB0zxMA%3D\"\n",
    "tile_names = [tile[-5:] for tile in adlfs.AzureBlobFileSystem(account_name=\"snowmelt\", credential=sas_token, anon=False).ls('snowmelt/eric/MGRS/')]"
   ]
  },
  {
   "cell_type": "code",
   "execution_count": 3,
   "id": "bbccf1b9-12bb-44ad-ae4f-b2e218fa881d",
   "metadata": {},
   "outputs": [],
   "source": [
    "#tile_names"
   ]
  },
  {
   "cell_type": "code",
   "execution_count": 4,
   "id": "2a21f42a-64d9-4e15-90a9-0bf69b9b174a",
   "metadata": {},
   "outputs": [
    {
     "data": {
      "text/plain": [
       "'96.70% coverage of our areas of interest'"
      ]
     },
     "execution_count": 4,
     "metadata": {},
     "output_type": "execute_result"
    }
   ],
   "source": [
    "f'{(len(tile_names)/273)*100:.2f}% coverage of our areas of interest'"
   ]
  },
  {
   "cell_type": "code",
   "execution_count": null,
   "id": "dc5e4f94-d378-4ef3-8c15-46ad2bb4d989",
   "metadata": {},
   "outputs": [],
   "source": [
    "#import getpass\n",
    "#import azure.storage.blob\n",
    "#import io\n",
    "\n",
    "#sas_token = getpass.getpass()  # prompts for the sas_token\n",
    "#sas_token = \"se=2023-02-20T20%3A51Z&sp=racwdl&sv=2018-11-09&sr=c&skoid=b4d39ccb-ca9c-4e9d-a183-5e0f3ba3e609&sktid=f6b6dd5b-f02f-441a-99a0-162ac5060bd2&skt=2023-02-13T20%3A52%3A06Z&ske=2023-02-20T20%3A51%3A00Z&sks=b&skv=2018-11-09&sig=C4rfs7%2BUt5kqABSyxX8qZ0R%2Bbuh9CMlRrYvRN1VtSwc%3D\"\n",
    "\n",
    "#container_client = azure.storage.blob.ContainerClient(\n",
    "#    \"https://snowmelt.blob.core.windows.net\",\n",
    "#    container_name=\"snowmelt\",\n",
    "#    credential=sas_token,\n",
    "#)"
   ]
  },
  {
   "cell_type": "code",
   "execution_count": null,
   "id": "b005b9f7-a67f-4b5d-a5d4-2a95e9275c21",
   "metadata": {},
   "outputs": [],
   "source": [
    "#file_list = [item['name'] for item in list(container_client.list_blobs())]\n",
    "#url = \"https://snowmelt.blob.core.windows.net/snowmelt/\""
   ]
  },
  {
   "cell_type": "code",
   "execution_count": null,
   "id": "e6fd8300-7a77-498a-a13b-e8faaa0bef36",
   "metadata": {},
   "outputs": [],
   "source": [
    "#file_list"
   ]
  },
  {
   "cell_type": "code",
   "execution_count": null,
   "id": "15fdd6b4-997e-4882-92f4-0a99ffee2dc1",
   "metadata": {},
   "outputs": [],
   "source": [
    "resolution = 40\n",
    "nodata = 'nan'"
   ]
  },
  {
   "cell_type": "code",
   "execution_count": null,
   "id": "9f555a57-ef5f-4b44-8501-b41ba20c40e3",
   "metadata": {},
   "outputs": [],
   "source": [
    "#list(filter(lambda x: str({resolution}) in x, file_list))"
   ]
  },
  {
   "cell_type": "code",
   "execution_count": null,
   "id": "b3ee2be0-ac2b-41e4-9baa-b31b882402c3",
   "metadata": {},
   "outputs": [],
   "source": [
    "#for nm in tile_names:\n",
    "#    list(filter(lambda x: nm in x, list(filter(lambda x: str(resolution) in x, file_list))))"
   ]
  },
  {
   "cell_type": "code",
   "execution_count": null,
   "id": "08fae4a5-ada9-4928-b188-91bb6ab0e7e8",
   "metadata": {},
   "outputs": [],
   "source": [
    "m = folium.Map(\n",
    "    location=(40.76, -111.89),\n",
    "    tiles=\"Stamen Terrain\", #\"cartodbpositron\"\n",
    "    zoom_start=7,\n",
    ")\n",
    "\n",
    "#m = folium.plugins.DualMap(\n",
    "#    location=(40.76, -111.89),\n",
    "#    tiles=\"Stamen Terrain\", #\"cartodbpositron\"\n",
    "#    zoom_start=7,\n",
    "#)\n",
    "\n",
    "minimap = plugins.MiniMap(toggle_display=True)\n",
    "m.add_child(minimap)\n",
    "\n",
    "interannual_medians = folium.FeatureGroup(name='2015-2022 Median Snowmelt Runoff Onset Date')\n",
    "interannual_std = folium.FeatureGroup(name='2015-2022 Standard Deviation of Snowmelt Runoff Onset Date',show=False)\n",
    "interannual_polyfit = folium.FeatureGroup(name='2015-2022 Snowmelt Runoff Onset Date Trend',show=False)\n",
    "interannual_corr = folium.FeatureGroup(name='2015-2022 Snowmelt Runoff Onset Date Trend Strength',show=False)\n",
    "year_2015 = folium.FeatureGroup(name='2015 Snowmelt Runoff Onset Date',show=False)\n",
    "year_2016 = folium.FeatureGroup(name='2016 Snowmelt Runoff Onset Date',show=False)\n",
    "year_2017 = folium.FeatureGroup(name='2017 Snowmelt Runoff Onset Date',show=False)\n",
    "year_2018 = folium.FeatureGroup(name='2018 Snowmelt Runoff Onset Date',show=False)\n",
    "year_2019 = folium.FeatureGroup(name='2019 Snowmelt Runoff Onset Date',show=False)\n",
    "year_2020 = folium.FeatureGroup(name='2020 Snowmelt Runoff Onset Date',show=False)\n",
    "year_2021 = folium.FeatureGroup(name='2021 Snowmelt Runoff Onset Date',show=False)\n",
    "year_2022 = folium.FeatureGroup(name='2022 Snowmelt Runoff Onset Date',show=False)\n",
    "layer_all_years = [year_2015,year_2016,year_2017,year_2018,year_2019,year_2020,year_2021,year_2022]\n",
    "years = [2015,2016,2017,2018,2019,2020,2021,2022]\n",
    "\n",
    "tiler = \"https://api.cogeo.xyz/cog/tiles/{z}/{x}/{y}\"\n",
    "for tile in tile_names:\n",
    "    tif = f\"https://snowmelt.blob.core.windows.net/snowmelt/eric/MGRS/{tile}/runoff_onset_{tile}_allyears_median_{resolution}m.tif\"\n",
    "    expression = f\"rescale=0,365&colormap_name=viridis&nodata={nodata}\"\n",
    "    virtual_tiles = f\"{tiler}?url={tif}&{expression}\"\n",
    "    interannual_medians.add_child(folium.TileLayer(tiles=virtual_tiles,overlay=True,opacity=1,name='2015-2022 Median Snowmelt Runoff Onset', attr=\"Microsoft PC hosted Sentinel-1 RTC via Catalyst\"))\n",
    "    \n",
    "    tif = f\"https://snowmelt.blob.core.windows.net/snowmelt/eric/MGRS/{tile}/runoff_onset_{tile}_allyears_std_{resolution}m.tif\"\n",
    "    expression = f\"rescale=0,90&colormap_name=reds&nodata={nodata}\"\n",
    "    virtual_tiles = f\"{tiler}?url={tif}&{expression}\"\n",
    "    interannual_std.add_child(folium.TileLayer(tiles=virtual_tiles,overlay=True, opacity=1,name='2015-2022 STD Snowmelt Runoff Onset', attr=\"Microsoft PC hosted Sentinel-1 RTC via Catalyst\"))\n",
    "\n",
    "    tif = f\"https://snowmelt.blob.core.windows.net/snowmelt/eric/MGRS/{tile}/runoff_onset_{tile}_allyears_polyfit_{resolution}m.tif\"\n",
    "    expression = f\"rescale=-10,10&colormap_name=rdbu_r&nodata={nodata}\"\n",
    "    virtual_tiles = f\"{tiler}?url={tif}&{expression}\"\n",
    "    interannual_polyfit.add_child(folium.TileLayer(tiles=virtual_tiles,overlay=True, opacity=1,name='2015-2022 Snowmelt Runoff Onset Trend', attr=\"Microsoft PC hosted Sentinel-1 RTC via Catalyst\"))\n",
    " \n",
    "    tif = f\"https://snowmelt.blob.core.windows.net/snowmelt/eric/MGRS/{tile}/runoff_onset_{tile}_allyears_corr_strength_{resolution}m.tif\"\n",
    "    expression = f\"rescale=-1,1&colormap_name=rdbu_r&nodata={nodata}\"\n",
    "    virtual_tiles = f\"{tiler}?url={tif}&{expression}\"\n",
    "    interannual_corr.add_child(folium.TileLayer(tiles=virtual_tiles,overlay=True,opacity=1,name='2015-2022 Snowmelt Runoff Onset Trend Strength', attr=\"Microsoft PC hosted Sentinel-1 RTC via Catalyst\"))\n",
    "\n",
    "    \n",
    "\n",
    "for layer_year, year in zip(layer_all_years,years):\n",
    "    for tile in tile_names:\n",
    "        tif = f\"https://snowmelt.blob.core.windows.net/snowmelt/eric/MGRS/{tile}/runoff_onset_{tile}_{year}_median_{resolution}m.tif\"\n",
    "        expression = f\"rescale=0,365&colormap_name=viridis&nodata={nodata}\"\n",
    "        virtual_tiles = f\"{tiler}?url={tif}&{expression}\"\n",
    "        layer_year.add_child(folium.TileLayer(tiles=virtual_tiles,overlay=True,opacity=1,name=f'{year} Snowmelt Runoff Onset', attr=\"Microsoft PC hosted Sentinel-1 RTC via Catalyst\"))\n",
    "    \n",
    "\n",
    "interannual_medians.add_to(m)\n",
    "interannual_std.add_to(m)\n",
    "interannual_polyfit.add_to(m)\n",
    "interannual_corr.add_to(m)\n",
    "\n",
    "for layer_year in layer_all_years:\n",
    "    layer_year.add_to(m)\n",
    "\n",
    "\n",
    "folium.LayerControl().add_to(m)\n",
    "\n",
    "cm = branca.colormap.linear.viridis.scale(0,365)\n",
    "cm.add_to(m)\n",
    "\n",
    "m"
   ]
  },
  {
   "cell_type": "code",
   "execution_count": null,
   "id": "eab3119e-225b-4b25-bcf0-ebc29e1de82b",
   "metadata": {},
   "outputs": [],
   "source": [
    "m.save(\"index.html\")"
   ]
  },
  {
   "cell_type": "code",
   "execution_count": null,
   "id": "64c6d7dd-8709-48b4-841a-66aadf8a1c39",
   "metadata": {},
   "outputs": [],
   "source": []
  },
  {
   "cell_type": "code",
   "execution_count": null,
   "id": "9e67ae65-f9ff-4a11-9d74-099596c789b1",
   "metadata": {},
   "outputs": [],
   "source": []
  }
 ],
 "metadata": {
  "kernelspec": {
   "display_name": "Python [conda env:notebook] *",
   "language": "python",
   "name": "conda-env-notebook-py"
  },
  "language_info": {
   "codemirror_mode": {
    "name": "ipython",
    "version": 3
   },
   "file_extension": ".py",
   "mimetype": "text/x-python",
   "name": "python",
   "nbconvert_exporter": "python",
   "pygments_lexer": "ipython3",
   "version": "3.10.6"
  }
 },
 "nbformat": 4,
 "nbformat_minor": 5
}
