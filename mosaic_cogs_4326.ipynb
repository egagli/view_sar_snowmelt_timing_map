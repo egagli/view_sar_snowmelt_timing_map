{
 "cells": [
  {
   "cell_type": "markdown",
   "id": "416df93c-fef6-405f-b2c3-76613d38d588",
   "metadata": {
    "tags": []
   },
   "source": [
    "# 4326 COGs to 4326 COG Mosaic"
   ]
  },
  {
   "cell_type": "code",
   "execution_count": 1,
   "id": "c1bce056-05ff-4194-8c6d-f0dc1e33df44",
   "metadata": {},
   "outputs": [],
   "source": [
    "import adlfs\n",
    "import glob"
   ]
  },
  {
   "cell_type": "code",
   "execution_count": 2,
   "id": "8a14ee6f-89a2-4395-9620-5d3179e1e020",
   "metadata": {},
   "outputs": [],
   "source": [
    "# use read only token\n",
    "sas_token = \"se=2023-12-03T08%3A42Z&sp=racwdl&sv=2022-11-02&sr=c&skoid=598b2582-4d1d-4c4e-9bb2-3ad571b791b5&sktid=f6b6dd5b-f02f-441a-99a0-162ac5060bd2&skt=2023-11-26T08%3A42%3A56Z&ske=2023-12-03T08%3A42%3A00Z&sks=b&skv=2022-11-02&sig=d0zp1ahDN96QRbySIfd5oZzuCnz7DXg3iRQJELJJZsY%3D\""
   ]
  },
  {
   "cell_type": "code",
   "execution_count": 3,
   "id": "77afe9e5-f271-4868-a4f2-4ba653768c4a",
   "metadata": {},
   "outputs": [],
   "source": [
    "years = ['2015_median','2016_median','2017_median','2018_median','2019_median','2020_median','2021_median','2022_median','2023_median']\n",
    "resolution = 80"
   ]
  },
  {
   "cell_type": "code",
   "execution_count": 4,
   "id": "69b507b1-3f70-4c4c-8c92-4c397def813b",
   "metadata": {
    "tags": []
   },
   "outputs": [],
   "source": [
    "fs = adlfs.AzureBlobFileSystem(account_name=\"snowmelt\", credential=sas_token, anon=True)"
   ]
  },
  {
   "cell_type": "code",
   "execution_count": 5,
   "id": "51395c2b-3c09-4d3a-a0fa-1d6651005f2d",
   "metadata": {},
   "outputs": [],
   "source": [
    "# for year in years:\n",
    "#     f = open(f'vrts/4326/filenames/files_{year}.txt','w')\n",
    "#     for fn in fs.glob(f'snowmelt/eric/global_4326/*/*{year}*'):\n",
    "#         f.write(f'https://snowmelt.blob.core.windows.net/{fn}\\n')\n",
    "#     f.close()"
   ]
  },
  {
   "cell_type": "code",
   "execution_count": 6,
   "id": "02dfa1c8-2158-46cf-a24b-5d8e4dff8bdd",
   "metadata": {},
   "outputs": [],
   "source": [
    "# for year in years:\n",
    "#     if (year == 'allyears_std') | (year == 'allyears_corr_strength'):\n",
    "#         nodata = \"nan\"\n",
    "#     else:\n",
    "#         nodata = '-32768'\n",
    "        \n",
    "#     print(f'for year {year}, running gdalbuiltvrt...')\n",
    "#     !gdalbuildvrt -input_file_list $f'vrts/4326/filenames/files_{year}.txt' $f'vrts/4326/vrt_{year}.vrt' -vrtnodata $nodata\n",
    "    \n",
    "#     print(f'for year {year}, running gdalwarp...')\n",
    "#     !gdalwarp $f'vrts/4326/vrt_{year}.vrt' $f'tif/4326/tif_{year}.tif' -of COG\n",
    "    \n",
    "#     print(f'for year {year}, uploading mosaic')\n",
    "#     fs.upload(f'tif/4326/tif_{year}.tif',f'/snowmelt/eric/mosaics/global_4326/runoff_onset_mosaic_{year}_{resolution}m_4326.tif',overwrite=True)\n",
    "    \n",
    "#     !rm $f'tif/4326/tif_{year}.tif'\n",
    "    "
   ]
  },
  {
   "cell_type": "code",
   "execution_count": 7,
   "id": "5b9533ad-d935-4de7-a067-3233b2e18fde",
   "metadata": {
    "tags": []
   },
   "outputs": [
    {
     "data": {
      "text/plain": [
       "['snowmelt/eric/mosaics/global_4326/runoff_onset_mosaic_2015_median_80m_4326.tif',\n",
       " 'snowmelt/eric/mosaics/global_4326/runoff_onset_mosaic_2016_median_80m_4326.tif',\n",
       " 'snowmelt/eric/mosaics/global_4326/runoff_onset_mosaic_2017_median_80m_4326.tif',\n",
       " 'snowmelt/eric/mosaics/global_4326/runoff_onset_mosaic_2018_median_80m_4326.tif',\n",
       " 'snowmelt/eric/mosaics/global_4326/runoff_onset_mosaic_2019_median_80m_4326.tif',\n",
       " 'snowmelt/eric/mosaics/global_4326/runoff_onset_mosaic_2020_median_80m_4326.tif',\n",
       " 'snowmelt/eric/mosaics/global_4326/runoff_onset_mosaic_2021_median_80m_4326.tif',\n",
       " 'snowmelt/eric/mosaics/global_4326/runoff_onset_mosaic_2022_median_80m_4326.tif',\n",
       " 'snowmelt/eric/mosaics/global_4326/runoff_onset_mosaic_2023_median_80m_4326.tif']"
      ]
     },
     "execution_count": 7,
     "metadata": {},
     "output_type": "execute_result"
    }
   ],
   "source": [
    "fs.glob('/snowmelt/eric/mosaics/global_4326/*')"
   ]
  },
  {
   "cell_type": "code",
   "execution_count": 1,
   "id": "75d44365-b439-439c-8e16-18f8160fd302",
   "metadata": {
    "tags": []
   },
   "outputs": [],
   "source": [
    "# read in all?? huge cogs, let's see how dangerous this is\n",
    "\n",
    "# import xarray as xr\n",
    "# import rioxarray as rxr\n",
    "# import re\n",
    "# import dask_gateway\n",
    "# import numpy as np\n",
    "# import io\n",
    "\n",
    "# cluster = dask_gateway.GatewayCluster()\n",
    "# client = cluster.get_client()\n",
    "# cluster.scale(50)\n",
    "# print(cluster.dashboard_link)\n",
    "\n",
    "# url = \"https://snowmelt.blob.core.windows.net/\"\n",
    "# year_list = []\n",
    "# for geotiff in fs.glob('/snowmelt/eric/mosaics/global_4326/*'):\n",
    "#     year_list.append(re.findall(\"_(\\d{4})_\", geotiff)[0])\n",
    "# year_list = [int(year) for year in year_list]\n",
    "\n",
    "# #Create variable used for time axis\n",
    "# time_var = xr.Variable('time', year_list)\n",
    "\n",
    "# # Load in and concatenate all individual GeoTIFFs\n",
    "# runoffs_allyears = xr.concat([rxr.open_rasterio(f\"{url}{i}\",chunks='auto') for i in fs.glob('/snowmelt/eric/mosaics/global_4326/*')],dim=time_var).squeeze().sortby('time')\n",
    "\n",
    "# runoffs_allyears = runoffs_allyears.astype(np.int16)\n",
    "\n",
    "# runoffs_allyears = runoffs_allyears.where(runoffs_allyears>-32768).astype(np.int16)\n",
    "\n",
    "# runoffs_allyears_median = runoffs_allyears.median(dim='time')\n",
    "\n",
    "# runoffs_allyears_median = runoffs_allyears_median.astype(np.int16).rio.write_nodata(-32768,encoded=True)\n",
    "\n",
    "# with io.BytesIO() as buffer:\n",
    "#         runoffs_allyears_median.rio.to_raster(buffer, driver=\"COG\",dtype='int16')\n",
    "#         buffer.seek(0)\n",
    "#         blob_client = container_client.get_blob_client(f\"snowmelt/eric/mosaics/global_4326/runoff_onset_mosaic_allyears_median_80m_4326.tif\")\n",
    "#         blob_client.upload_blob(buffer, overwrite=True)"
   ]
  },
  {
   "cell_type": "code",
   "execution_count": 15,
   "id": "a0f867ff-c2c2-47ed-b138-cc6bff286860",
   "metadata": {
    "tags": []
   },
   "outputs": [],
   "source": []
  }
 ],
 "metadata": {
  "kernelspec": {
   "display_name": "Python 3 (ipykernel)",
   "language": "python",
   "name": "python3"
  },
  "language_info": {
   "codemirror_mode": {
    "name": "ipython",
    "version": 3
   },
   "file_extension": ".py",
   "mimetype": "text/x-python",
   "name": "python",
   "nbconvert_exporter": "python",
   "pygments_lexer": "ipython3",
   "version": "3.11.4"
  }
 },
 "nbformat": 4,
 "nbformat_minor": 5
}
