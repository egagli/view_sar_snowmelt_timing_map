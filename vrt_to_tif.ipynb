{
 "cells": [
  {
   "cell_type": "code",
   "execution_count": null,
   "id": "d5119a09-506c-4313-a599-c9d34aaf98f8",
   "metadata": {},
   "outputs": [],
   "source": [
    "# vrts to raster"
   ]
  },
  {
   "cell_type": "code",
   "execution_count": 1,
   "id": "72d1bd86-88a4-4f39-a3dc-d2c0f39453a6",
   "metadata": {},
   "outputs": [],
   "source": [
    "import glob\n",
    "import tqdm"
   ]
  },
  {
   "cell_type": "code",
   "execution_count": 2,
   "id": "ffbad78f-26fb-44e5-b1f2-1d5c52e8f390",
   "metadata": {},
   "outputs": [],
   "source": [
    "years = ['allyears_median','allyears_std','allyears_corr_strength','2015_median','2016_median','2017_median','2018_median','2019_median','2020_median','2021_median','2022_median']"
   ]
  },
  {
   "cell_type": "code",
   "execution_count": 11,
   "id": "4ce9c4c6-9dce-479f-8aee-8de97c34f5ba",
   "metadata": {},
   "outputs": [],
   "source": [
    "for year in years:\n",
    "    vrt_filenames = glob.glob(f'vrts/*{year}*.vrt')\n",
    "    f = open(f'vrts/vrt_filelist_{year}.txt','w')\n",
    "    for vrt_filename in vrt_filenames:\n",
    "        f.write(f'{vrt_filename}\\n')\n",
    "    f.close()"
   ]
  },
  {
   "cell_type": "code",
   "execution_count": 12,
   "id": "1c0d7cee-306a-42c7-9393-9ab361496707",
   "metadata": {},
   "outputs": [
    {
     "name": "stdout",
     "output_type": "stream",
     "text": [
      "Warning 1: gdalwarp -of VRT just takes into account the first source dataset.\n",
      "If all source datasets are in the same projection, try making a mosaic of\n",
      "them with gdalbuildvrt, and use the resulting VRT file as the input of\n",
      "gdalwarp -of VRT.\n",
      "Creating output file that is 26799P x 25383L.\n",
      "Processing vrts/vrt_allyears_median_utm12.vrt [1/4] : 0Using internal nodata values (e.g. -32768) for image vrts/vrt_allyears_median_utm12.vrt.\n",
      "Copying nodata values from source vrts/vrt_allyears_median_utm12.vrt to destination tifs/merged_allyears_median.vrt.\n",
      "...10...20...30...40...50...60...70...80...90...100 - done.\n",
      "Warning 1: gdalwarp -of VRT just takes into account the first source dataset.\n",
      "If all source datasets are in the same projection, try making a mosaic of\n",
      "them with gdalbuildvrt, and use the resulting VRT file as the input of\n",
      "gdalwarp -of VRT.\n",
      "Creating output file that is 26799P x 25383L.\n",
      "Processing vrts/vrt_allyears_std_utm11.vrt [1/4] : 0Using internal nodata values (e.g. nan) for image vrts/vrt_allyears_std_utm11.vrt.\n",
      "Copying nodata values from source vrts/vrt_allyears_std_utm11.vrt to destination tifs/merged_allyears_std.vrt.\n",
      "...10...20...30...40...50...60...70...80...90...100 - done.\n",
      "Warning 1: gdalwarp -of VRT just takes into account the first source dataset.\n",
      "If all source datasets are in the same projection, try making a mosaic of\n",
      "them with gdalbuildvrt, and use the resulting VRT file as the input of\n",
      "gdalwarp -of VRT.\n",
      "Creating output file that is 26799P x 25383L.\n",
      "Processing vrts/vrt_allyears_corr_strength_utm11.vrt [1/4] : 0Using internal nodata values (e.g. nan) for image vrts/vrt_allyears_corr_strength_utm11.vrt.\n",
      "Copying nodata values from source vrts/vrt_allyears_corr_strength_utm11.vrt to destination tifs/merged_allyears_corr_strength.vrt.\n",
      "...10...20...30...40...50...60...70...80...90...100 - done.\n",
      "Warning 1: gdalwarp -of VRT just takes into account the first source dataset.\n",
      "If all source datasets are in the same projection, try making a mosaic of\n",
      "them with gdalbuildvrt, and use the resulting VRT file as the input of\n",
      "gdalwarp -of VRT.\n",
      "Creating output file that is 26799P x 25383L.\n",
      "Processing vrts/vrt_2015_median_utm11.vrt [1/4] : 0Using internal nodata values (e.g. -32768) for image vrts/vrt_2015_median_utm11.vrt.\n",
      "Copying nodata values from source vrts/vrt_2015_median_utm11.vrt to destination tifs/merged_2015_median.vrt.\n",
      "...10...20...30...40...50...60...70...80...90...100 - done.\n",
      "Warning 1: gdalwarp -of VRT just takes into account the first source dataset.\n",
      "If all source datasets are in the same projection, try making a mosaic of\n",
      "them with gdalbuildvrt, and use the resulting VRT file as the input of\n",
      "gdalwarp -of VRT.\n",
      "Creating output file that is 26799P x 25383L.\n",
      "Processing vrts/vrt_2016_median_utm12.vrt [1/4] : 0Using internal nodata values (e.g. -32768) for image vrts/vrt_2016_median_utm12.vrt.\n",
      "Copying nodata values from source vrts/vrt_2016_median_utm12.vrt to destination tifs/merged_2016_median.vrt.\n",
      "...10...20...30...40...50...60...70...80...90...100 - done.\n",
      "Warning 1: gdalwarp -of VRT just takes into account the first source dataset.\n",
      "If all source datasets are in the same projection, try making a mosaic of\n",
      "them with gdalbuildvrt, and use the resulting VRT file as the input of\n",
      "gdalwarp -of VRT.\n",
      "Creating output file that is 26799P x 25383L.\n",
      "Processing vrts/vrt_2017_median_utm13.vrt [1/4] : 0Using internal nodata values (e.g. -32768) for image vrts/vrt_2017_median_utm13.vrt.\n",
      "Copying nodata values from source vrts/vrt_2017_median_utm13.vrt to destination tifs/merged_2017_median.vrt.\n",
      "...10...20...30...40...50...60...70...80...90...100 - done.\n",
      "Warning 1: gdalwarp -of VRT just takes into account the first source dataset.\n",
      "If all source datasets are in the same projection, try making a mosaic of\n",
      "them with gdalbuildvrt, and use the resulting VRT file as the input of\n",
      "gdalwarp -of VRT.\n",
      "Creating output file that is 26799P x 25383L.\n",
      "Processing vrts/vrt_2018_median_utm10.vrt [1/4] : 0Using internal nodata values (e.g. -32768) for image vrts/vrt_2018_median_utm10.vrt.\n",
      "Copying nodata values from source vrts/vrt_2018_median_utm10.vrt to destination tifs/merged_2018_median.vrt.\n",
      "...10...20...30...40...50...60...70...80...90...100 - done.\n",
      "Warning 1: gdalwarp -of VRT just takes into account the first source dataset.\n",
      "If all source datasets are in the same projection, try making a mosaic of\n",
      "them with gdalbuildvrt, and use the resulting VRT file as the input of\n",
      "gdalwarp -of VRT.\n",
      "Creating output file that is 26799P x 25383L.\n",
      "Processing vrts/vrt_2019_median_utm13.vrt [1/4] : 0Using internal nodata values (e.g. -32768) for image vrts/vrt_2019_median_utm13.vrt.\n",
      "Copying nodata values from source vrts/vrt_2019_median_utm13.vrt to destination tifs/merged_2019_median.vrt.\n",
      "...10...20...30...40...50...60...70...80...90...100 - done.\n",
      "Warning 1: gdalwarp -of VRT just takes into account the first source dataset.\n",
      "If all source datasets are in the same projection, try making a mosaic of\n",
      "them with gdalbuildvrt, and use the resulting VRT file as the input of\n",
      "gdalwarp -of VRT.\n",
      "Creating output file that is 26799P x 25383L.\n",
      "Processing vrts/vrt_2020_median_utm12.vrt [1/4] : 0Using internal nodata values (e.g. -32768) for image vrts/vrt_2020_median_utm12.vrt.\n",
      "Copying nodata values from source vrts/vrt_2020_median_utm12.vrt to destination tifs/merged_2020_median.vrt.\n",
      "...10...20...30...40...50...60...70...80...90...100 - done.\n",
      "Warning 1: gdalwarp -of VRT just takes into account the first source dataset.\n",
      "If all source datasets are in the same projection, try making a mosaic of\n",
      "them with gdalbuildvrt, and use the resulting VRT file as the input of\n",
      "gdalwarp -of VRT.\n",
      "Creating output file that is 26799P x 25383L.\n",
      "Processing vrts/vrt_2021_median_utm10.vrt [1/4] : 0Using internal nodata values (e.g. -32768) for image vrts/vrt_2021_median_utm10.vrt.\n",
      "Copying nodata values from source vrts/vrt_2021_median_utm10.vrt to destination tifs/merged_2021_median.vrt.\n",
      "...10...20...30...40...50...60...70...80...90...100 - done.\n",
      "Warning 1: gdalwarp -of VRT just takes into account the first source dataset.\n",
      "If all source datasets are in the same projection, try making a mosaic of\n",
      "them with gdalbuildvrt, and use the resulting VRT file as the input of\n",
      "gdalwarp -of VRT.\n",
      "Creating output file that is 26799P x 25383L.\n",
      "Processing vrts/vrt_2022_median_utm12.vrt [1/4] : 0Using internal nodata values (e.g. -32768) for image vrts/vrt_2022_median_utm12.vrt.\n",
      "Copying nodata values from source vrts/vrt_2022_median_utm12.vrt to destination tifs/merged_2022_median.vrt.\n",
      "...10...20...30...40...50...60...70...80...90...100 - done.\n"
     ]
    }
   ],
   "source": [
    "for year in years:\n",
    "    merged_vrt_filename = f'tifs/merged_{year}.vrt'\n",
    "    text_file = f'vrts/vrt_filelist_{year}.txt'\n",
    "    !gdalwarp -t_srs EPSG:32611 --optfile $text_file $merged_vrt_filename "
   ]
  },
  {
   "cell_type": "code",
   "execution_count": 5,
   "id": "c961f51e-4fda-47b6-9c9c-e8fe39bb7987",
   "metadata": {},
   "outputs": [],
   "source": [
    "#!gdalinfo tifs/2021_median_utm10.tif"
   ]
  },
  {
   "cell_type": "code",
   "execution_count": 6,
   "id": "62ca6756-82d2-4107-939b-732011a7a3de",
   "metadata": {},
   "outputs": [],
   "source": [
    "#!gdalinfo 'https://snowmelt.blob.core.windows.net/snowmelt/eric/MGRS/10UEV/runoff_onset_10UEV_2015_median_80m.tif'"
   ]
  },
  {
   "cell_type": "code",
   "execution_count": 7,
   "id": "09be5020-481a-4be1-906f-88af9c69af3f",
   "metadata": {},
   "outputs": [
    {
     "name": "stdout",
     "output_type": "stream",
     "text": [
      "Creating output file that is 26799P x 25383L.\n",
      "Processing vrts/vrt_2015_median_utm10.vrt [1/45] : 0Using internal nodata values (e.g. -32768) for image vrts/vrt_2015_median_utm10.vrt.\n",
      "Copying nodata values from source vrts/vrt_2015_median_utm10.vrt to destination vrts/vrt_merged_.tif.\n",
      "...10...20...30...40...50...60...70...80...90...100 - done.\n",
      "Processing vrts/vrt_2015_median_utm11.vrt [2/45] : 0Using internal nodata values (e.g. -32768) for image vrts/vrt_2015_median_utm11.vrt.\n",
      "...10...20...30...40...50...60...70...80...90...100 - done.\n",
      "Processing vrts/vrt_2015_median_utm12.vrt [3/45] : 0Using internal nodata values (e.g. -32768) for image vrts/vrt_2015_median_utm12.vrt.\n",
      "...10...ERROR 1: OpenSSL SSL_read: Connection reset by peer, errno 104\n",
      "Processing vrts/vrt_2015_median_utm13.vrt [4/45] : Using internal nodata values (e.g. -32768) for image vrts/vrt_2015_median_utm13.vrt.\n",
      "20...30...40...50...60...70...80...90...100 - done.\n",
      "Processing vrts/vrt_2016_median_utm10.vrt [5/45] : 0Using internal nodata values (e.g. -32768) for image vrts/vrt_2016_median_utm10.vrt.\n",
      "...10...20...30...40...50...60...70...80...90...100 - done.\n",
      "Processing vrts/vrt_2016_median_utm11.vrt [6/45] : 0Using internal nodata values (e.g. -32768) for image vrts/vrt_2016_median_utm11.vrt.\n",
      "...10...20...30...40...50...60...70...80...90...100 - done.\n",
      "Processing vrts/vrt_2016_median_utm12.vrt [7/45] : 0Using internal nodata values (e.g. -32768) for image vrts/vrt_2016_median_utm12.vrt.\n",
      "...10..ERROR 1: OpenSSL SSL_read: Connection reset by peer, errno 104\n",
      "Processing vrts/vrt_2016_median_utm13.vrt [8/45] : Using internal nodata values (e.g. -32768) for image vrts/vrt_2016_median_utm13.vrt.\n",
      "ERROR 1: OpenSSL SSL_read: Connection reset by peer, errno 104\n",
      "Processing vrts/vrt_2017_median_utm10.vrt [9/45] : Using internal nodata values (e.g. -32768) for image vrts/vrt_2017_median_utm10.vrt.\n",
      ".20...30...40...50...60...70..ERROR 1: OpenSSL SSL_read: Connection reset by peer, errno 104\n",
      "Processing vrts/vrt_2017_median_utm11.vrt [10/45] : Using internal nodata values (e.g. -32768) for image vrts/vrt_2017_median_utm11.vrt.\n",
      ".80...90...100 - done.\n",
      "Processing vrts/vrt_2017_median_utm12.vrt [11/45] : 0Using internal nodata values (e.g. -32768) for image vrts/vrt_2017_median_utm12.vrt.\n",
      "...10..^C\n"
     ]
    },
    {
     "name": "stderr",
     "output_type": "stream",
     "text": [
      "\n",
      "KeyboardInterrupt\n",
      "\n"
     ]
    }
   ],
   "source": [
    "for year in years:\n",
    "    !gdalwarp -t_srs EPSG:32611 vrts/vrt_$year*.vrt vrts/vrt_merged_$year.tif"
   ]
  },
  {
   "cell_type": "code",
   "execution_count": null,
   "id": "b72a89be-5894-4dde-9b9c-9443194866b1",
   "metadata": {},
   "outputs": [],
   "source": [
    "#!echo vrts/vrt_$year*.vrt"
   ]
  },
  {
   "cell_type": "code",
   "execution_count": null,
   "id": "4e7d10b7-0f63-4afd-9114-20273585d8f0",
   "metadata": {},
   "outputs": [],
   "source": []
  }
 ],
 "metadata": {
  "kernelspec": {
   "display_name": "Python 3 (ipykernel)",
   "language": "python",
   "name": "python3"
  },
  "language_info": {
   "codemirror_mode": {
    "name": "ipython",
    "version": 3
   },
   "file_extension": ".py",
   "mimetype": "text/x-python",
   "name": "python",
   "nbconvert_exporter": "python",
   "pygments_lexer": "ipython3",
   "version": "3.10.6"
  }
 },
 "nbformat": 4,
 "nbformat_minor": 5
}
